{
 "cells": [
  {
   "cell_type": "markdown",
   "id": "7c6a1624-6f48-4b59-9e8e-3911774911c7",
   "metadata": {},
   "source": [
    "1. Define varaibles to store a students name,age,GPA,and list of subjects"
   ]
  },
  {
   "cell_type": "code",
   "execution_count": 15,
   "id": "099adabc-804e-47ef-8eb0-5adee0ab8430",
   "metadata": {},
   "outputs": [
    {
     "name": "stdin",
     "output_type": "stream",
     "text": [
      "Enter students name John Nia Bob\n",
      "Enter students age 15 18 20\n",
      "Enter students GPA 18 20 16\n",
      "Enter subjects Science Computer Maths\n"
     ]
    }
   ],
   "source": [
    "name =str(input('Enter students name'))\n",
    "age=str(input('Enter students age' ))\n",
    "GPA=int=(input('Enter students GPA'))\n",
    "subject=str(input('Enter subjects'))"
   ]
  },
  {
   "cell_type": "code",
   "execution_count": 16,
   "id": "136d2854-36f9-4dab-8289-33a5f7d4e4ed",
   "metadata": {},
   "outputs": [
    {
     "data": {
      "text/plain": [
       "'John Nia Bob'"
      ]
     },
     "execution_count": 16,
     "metadata": {},
     "output_type": "execute_result"
    }
   ],
   "source": [
    "name"
   ]
  },
  {
   "cell_type": "code",
   "execution_count": 17,
   "id": "a438a2ff-ede5-4b0b-8269-abcb73cfe3a1",
   "metadata": {},
   "outputs": [
    {
     "data": {
      "text/plain": [
       "'15 18 20'"
      ]
     },
     "execution_count": 17,
     "metadata": {},
     "output_type": "execute_result"
    }
   ],
   "source": [
    "age"
   ]
  },
  {
   "cell_type": "code",
   "execution_count": 18,
   "id": "7119cbf7-a916-4699-b4f1-1e3eff730958",
   "metadata": {},
   "outputs": [
    {
     "data": {
      "text/plain": [
       "'18 20 16'"
      ]
     },
     "execution_count": 18,
     "metadata": {},
     "output_type": "execute_result"
    }
   ],
   "source": [
    "GPA"
   ]
  },
  {
   "cell_type": "code",
   "execution_count": 19,
   "id": "25cc2fdc-1b48-485f-a460-e8e078b7a554",
   "metadata": {},
   "outputs": [
    {
     "data": {
      "text/plain": [
       "'Science Computer Maths'"
      ]
     },
     "execution_count": 19,
     "metadata": {},
     "output_type": "execute_result"
    }
   ],
   "source": [
    "subject"
   ]
  },
  {
   "cell_type": "markdown",
   "id": "3f4b2dfe-0890-4cb7-bfc4-b6e137f5bd87",
   "metadata": {},
   "source": [
    "2. Convert age from years to months and display result"
   ]
  },
  {
   "cell_type": "code",
   "execution_count": 21,
   "id": "19fd3b42-c085-457f-a847-d6b9e26628f6",
   "metadata": {},
   "outputs": [
    {
     "name": "stdout",
     "output_type": "stream",
     "text": [
      "age in months: 240\n"
     ]
    }
   ],
   "source": [
    "age_years=20 #age in year\n",
    "age_months=age_years*12 #convert to month\n",
    "print(\"age in months:\",age_months)"
   ]
  },
  {
   "cell_type": "markdown",
   "id": "cd567f5d-4fc7-41b7-a8e4-6d860bc027ae",
   "metadata": {},
   "source": [
    "3. Concatenate and print a sentence using all defined varaibles"
   ]
  },
  {
   "cell_type": "code",
   "execution_count": 33,
   "id": "8f07216d-113b-47e7-9d2e-fdc609f4db1e",
   "metadata": {},
   "outputs": [
    {
     "name": "stdout",
     "output_type": "stream",
     "text": [
      " students name is John Nia Bob and students age is 15 18 20\n",
      " students GPA is 18 20 16 in sbjects Science Computer Maths \n",
      " age in months is 240 \n"
     ]
    }
   ],
   "source": [
    "sentence=f\" students name is {name} and students age is {age}\"\n",
    "print(sentence)\n",
    "sentence=f\" students GPA is {GPA} in sbjects {subject} \"\n",
    "print(sentence)\n",
    "sentence=f\" age in months is {age_months} \"\n",
    "print(sentence)"
   ]
  }
 ],
 "metadata": {
  "kernelspec": {
   "display_name": "Python 3 (ipykernel)",
   "language": "python",
   "name": "python3"
  },
  "language_info": {
   "codemirror_mode": {
    "name": "ipython",
    "version": 3
   },
   "file_extension": ".py",
   "mimetype": "text/x-python",
   "name": "python",
   "nbconvert_exporter": "python",
   "pygments_lexer": "ipython3",
   "version": "3.12.7"
  }
 },
 "nbformat": 4,
 "nbformat_minor": 5
}
