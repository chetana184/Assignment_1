{
 "cells": [
  {
   "cell_type": "markdown",
   "id": "a5943bb2-b97a-4354-a856-e57e981ad967",
   "metadata": {},
   "source": [
    "Convert float into an integer "
   ]
  },
  {
   "cell_type": "code",
   "execution_count": 1,
   "id": "4feccd66-d593-4977-8cf4-107af7139434",
   "metadata": {},
   "outputs": [
    {
     "name": "stdout",
     "output_type": "stream",
     "text": [
      "29\n"
     ]
    }
   ],
   "source": [
    "num=29.7\n",
    "result=int(num)\n",
    "print(result)"
   ]
  },
  {
   "cell_type": "raw",
   "id": "e0b0dd48-6647-44aa-b4b9-db19152bcec5",
   "metadata": {},
   "source": [
    "Explanation:\n",
    "The decimal part is removed and only the complete number 29 is display"
   ]
  }
 ],
 "metadata": {
  "kernelspec": {
   "display_name": "Python 3 (ipykernel)",
   "language": "python",
   "name": "python3"
  },
  "language_info": {
   "codemirror_mode": {
    "name": "ipython",
    "version": 3
   },
   "file_extension": ".py",
   "mimetype": "text/x-python",
   "name": "python",
   "nbconvert_exporter": "python",
   "pygments_lexer": "ipython3",
   "version": "3.12.7"
  }
 },
 "nbformat": 4,
 "nbformat_minor": 5
}
